{
 "cells": [
  {
   "cell_type": "code",
   "execution_count": 31,
   "metadata": {},
   "outputs": [
    {
     "name": "stdout",
     "output_type": "stream",
     "text": [
      "Requirement already satisfied: pandas in c:\\users\\mahin\\appdata\\local\\programs\\python\\python312\\lib\\site-packages (2.2.2)\n",
      "Requirement already satisfied: matplotlib in c:\\users\\mahin\\appdata\\local\\programs\\python\\python312\\lib\\site-packages (3.9.2)\n",
      "Requirement already satisfied: seaborn in c:\\users\\mahin\\appdata\\local\\programs\\python\\python312\\lib\\site-packages (0.13.2)\n",
      "Requirement already satisfied: numpy in c:\\users\\mahin\\appdata\\local\\programs\\python\\python312\\lib\\site-packages (2.1.1)\n",
      "Requirement already satisfied: ipython in c:\\users\\mahin\\appdata\\roaming\\python\\python312\\site-packages (8.28.0)\n",
      "Requirement already satisfied: scikit-learn in c:\\users\\mahin\\appdata\\local\\programs\\python\\python312\\lib\\site-packages (1.5.2)\n",
      "Requirement already satisfied: nltk in c:\\users\\mahin\\appdata\\local\\programs\\python\\python312\\lib\\site-packages (3.9.1)\n",
      "Requirement already satisfied: transformers in c:\\users\\mahin\\appdata\\local\\programs\\python\\python312\\lib\\site-packages (4.45.2)\n",
      "Requirement already satisfied: datasets in c:\\users\\mahin\\appdata\\local\\programs\\python\\python312\\lib\\site-packages (3.0.1)\n",
      "Requirement already satisfied: python-dateutil>=2.8.2 in c:\\users\\mahin\\appdata\\local\\programs\\python\\python312\\lib\\site-packages (from pandas) (2.9.0.post0)\n",
      "Requirement already satisfied: pytz>=2020.1 in c:\\users\\mahin\\appdata\\local\\programs\\python\\python312\\lib\\site-packages (from pandas) (2024.2)\n",
      "Requirement already satisfied: tzdata>=2022.7 in c:\\users\\mahin\\appdata\\local\\programs\\python\\python312\\lib\\site-packages (from pandas) (2024.1)\n",
      "Requirement already satisfied: contourpy>=1.0.1 in c:\\users\\mahin\\appdata\\local\\programs\\python\\python312\\lib\\site-packages (from matplotlib) (1.3.0)\n",
      "Requirement already satisfied: cycler>=0.10 in c:\\users\\mahin\\appdata\\local\\programs\\python\\python312\\lib\\site-packages (from matplotlib) (0.12.1)\n",
      "Requirement already satisfied: fonttools>=4.22.0 in c:\\users\\mahin\\appdata\\local\\programs\\python\\python312\\lib\\site-packages (from matplotlib) (4.54.1)\n",
      "Requirement already satisfied: kiwisolver>=1.3.1 in c:\\users\\mahin\\appdata\\local\\programs\\python\\python312\\lib\\site-packages (from matplotlib) (1.4.7)\n",
      "Requirement already satisfied: packaging>=20.0 in c:\\users\\mahin\\appdata\\local\\programs\\python\\python312\\lib\\site-packages (from matplotlib) (24.1)\n",
      "Requirement already satisfied: pillow>=8 in c:\\users\\mahin\\appdata\\local\\programs\\python\\python312\\lib\\site-packages (from matplotlib) (10.4.0)\n",
      "Requirement already satisfied: pyparsing>=2.3.1 in c:\\users\\mahin\\appdata\\local\\programs\\python\\python312\\lib\\site-packages (from matplotlib) (3.1.4)\n",
      "Requirement already satisfied: decorator in c:\\users\\mahin\\appdata\\roaming\\python\\python312\\site-packages (from ipython) (5.1.1)\n",
      "Requirement already satisfied: jedi>=0.16 in c:\\users\\mahin\\appdata\\roaming\\python\\python312\\site-packages (from ipython) (0.19.1)\n",
      "Requirement already satisfied: matplotlib-inline in c:\\users\\mahin\\appdata\\roaming\\python\\python312\\site-packages (from ipython) (0.1.7)\n",
      "Requirement already satisfied: prompt-toolkit<3.1.0,>=3.0.41 in c:\\users\\mahin\\appdata\\roaming\\python\\python312\\site-packages (from ipython) (3.0.48)\n",
      "Requirement already satisfied: pygments>=2.4.0 in c:\\users\\mahin\\appdata\\local\\programs\\python\\python312\\lib\\site-packages (from ipython) (2.18.0)\n",
      "Requirement already satisfied: stack-data in c:\\users\\mahin\\appdata\\roaming\\python\\python312\\site-packages (from ipython) (0.6.3)\n",
      "Requirement already satisfied: traitlets>=5.13.0 in c:\\users\\mahin\\appdata\\roaming\\python\\python312\\site-packages (from ipython) (5.14.3)\n",
      "Requirement already satisfied: colorama in c:\\users\\mahin\\appdata\\local\\programs\\python\\python312\\lib\\site-packages (from ipython) (0.4.6)\n",
      "Requirement already satisfied: scipy>=1.6.0 in c:\\users\\mahin\\appdata\\local\\programs\\python\\python312\\lib\\site-packages (from scikit-learn) (1.14.1)\n",
      "Requirement already satisfied: joblib>=1.2.0 in c:\\users\\mahin\\appdata\\local\\programs\\python\\python312\\lib\\site-packages (from scikit-learn) (1.4.2)\n",
      "Requirement already satisfied: threadpoolctl>=3.1.0 in c:\\users\\mahin\\appdata\\local\\programs\\python\\python312\\lib\\site-packages (from scikit-learn) (3.5.0)\n",
      "Requirement already satisfied: click in c:\\users\\mahin\\appdata\\local\\programs\\python\\python312\\lib\\site-packages (from nltk) (8.1.7)\n",
      "Requirement already satisfied: regex>=2021.8.3 in c:\\users\\mahin\\appdata\\local\\programs\\python\\python312\\lib\\site-packages (from nltk) (2024.7.24)\n",
      "Requirement already satisfied: tqdm in c:\\users\\mahin\\appdata\\local\\programs\\python\\python312\\lib\\site-packages (from nltk) (4.66.5)\n",
      "Requirement already satisfied: filelock in c:\\users\\mahin\\appdata\\local\\programs\\python\\python312\\lib\\site-packages (from transformers) (3.16.1)\n",
      "Requirement already satisfied: huggingface-hub<1.0,>=0.23.2 in c:\\users\\mahin\\appdata\\local\\programs\\python\\python312\\lib\\site-packages (from transformers) (0.25.1)\n",
      "Requirement already satisfied: pyyaml>=5.1 in c:\\users\\mahin\\appdata\\local\\programs\\python\\python312\\lib\\site-packages (from transformers) (6.0.2)\n",
      "Requirement already satisfied: requests in c:\\users\\mahin\\appdata\\local\\programs\\python\\python312\\lib\\site-packages (from transformers) (2.32.3)\n",
      "Requirement already satisfied: safetensors>=0.4.1 in c:\\users\\mahin\\appdata\\local\\programs\\python\\python312\\lib\\site-packages (from transformers) (0.4.5)\n",
      "Requirement already satisfied: tokenizers<0.21,>=0.20 in c:\\users\\mahin\\appdata\\local\\programs\\python\\python312\\lib\\site-packages (from transformers) (0.20.0)\n",
      "Requirement already satisfied: pyarrow>=15.0.0 in c:\\users\\mahin\\appdata\\local\\programs\\python\\python312\\lib\\site-packages (from datasets) (17.0.0)\n",
      "Requirement already satisfied: dill<0.3.9,>=0.3.0 in c:\\users\\mahin\\appdata\\local\\programs\\python\\python312\\lib\\site-packages (from datasets) (0.3.8)\n",
      "Requirement already satisfied: xxhash in c:\\users\\mahin\\appdata\\local\\programs\\python\\python312\\lib\\site-packages (from datasets) (3.5.0)\n",
      "Requirement already satisfied: multiprocess in c:\\users\\mahin\\appdata\\local\\programs\\python\\python312\\lib\\site-packages (from datasets) (0.70.16)\n",
      "Requirement already satisfied: fsspec<=2024.6.1,>=2023.1.0 in c:\\users\\mahin\\appdata\\local\\programs\\python\\python312\\lib\\site-packages (from fsspec[http]<=2024.6.1,>=2023.1.0->datasets) (2024.6.1)\n",
      "Requirement already satisfied: aiohttp in c:\\users\\mahin\\appdata\\local\\programs\\python\\python312\\lib\\site-packages (from datasets) (3.10.5)\n",
      "Requirement already satisfied: aiohappyeyeballs>=2.3.0 in c:\\users\\mahin\\appdata\\local\\programs\\python\\python312\\lib\\site-packages (from aiohttp->datasets) (2.4.0)\n",
      "Requirement already satisfied: aiosignal>=1.1.2 in c:\\users\\mahin\\appdata\\local\\programs\\python\\python312\\lib\\site-packages (from aiohttp->datasets) (1.3.1)\n",
      "Requirement already satisfied: attrs>=17.3.0 in c:\\users\\mahin\\appdata\\local\\programs\\python\\python312\\lib\\site-packages (from aiohttp->datasets) (24.2.0)\n",
      "Requirement already satisfied: frozenlist>=1.1.1 in c:\\users\\mahin\\appdata\\local\\programs\\python\\python312\\lib\\site-packages (from aiohttp->datasets) (1.4.1)\n",
      "Requirement already satisfied: multidict<7.0,>=4.5 in c:\\users\\mahin\\appdata\\local\\programs\\python\\python312\\lib\\site-packages (from aiohttp->datasets) (6.1.0)\n",
      "Requirement already satisfied: yarl<2.0,>=1.0 in c:\\users\\mahin\\appdata\\local\\programs\\python\\python312\\lib\\site-packages (from aiohttp->datasets) (1.11.1)\n",
      "Requirement already satisfied: typing-extensions>=3.7.4.3 in c:\\users\\mahin\\appdata\\local\\programs\\python\\python312\\lib\\site-packages (from huggingface-hub<1.0,>=0.23.2->transformers) (4.12.2)\n",
      "Requirement already satisfied: parso<0.9.0,>=0.8.3 in c:\\users\\mahin\\appdata\\roaming\\python\\python312\\site-packages (from jedi>=0.16->ipython) (0.8.4)\n",
      "Requirement already satisfied: wcwidth in c:\\users\\mahin\\appdata\\roaming\\python\\python312\\site-packages (from prompt-toolkit<3.1.0,>=3.0.41->ipython) (0.2.13)\n",
      "Requirement already satisfied: six>=1.5 in c:\\users\\mahin\\appdata\\local\\programs\\python\\python312\\lib\\site-packages (from python-dateutil>=2.8.2->pandas) (1.16.0)\n",
      "Requirement already satisfied: charset-normalizer<4,>=2 in c:\\users\\mahin\\appdata\\local\\programs\\python\\python312\\lib\\site-packages (from requests->transformers) (3.3.2)\n",
      "Requirement already satisfied: idna<4,>=2.5 in c:\\users\\mahin\\appdata\\local\\programs\\python\\python312\\lib\\site-packages (from requests->transformers) (3.8)\n",
      "Requirement already satisfied: urllib3<3,>=1.21.1 in c:\\users\\mahin\\appdata\\local\\programs\\python\\python312\\lib\\site-packages (from requests->transformers) (2.2.2)\n",
      "Requirement already satisfied: certifi>=2017.4.17 in c:\\users\\mahin\\appdata\\local\\programs\\python\\python312\\lib\\site-packages (from requests->transformers) (2024.8.30)\n",
      "Requirement already satisfied: executing>=1.2.0 in c:\\users\\mahin\\appdata\\roaming\\python\\python312\\site-packages (from stack-data->ipython) (2.1.0)\n",
      "Requirement already satisfied: asttokens>=2.1.0 in c:\\users\\mahin\\appdata\\roaming\\python\\python312\\site-packages (from stack-data->ipython) (2.4.1)\n",
      "Requirement already satisfied: pure-eval in c:\\users\\mahin\\appdata\\roaming\\python\\python312\\site-packages (from stack-data->ipython) (0.2.3)\n",
      "Looking in indexes: https://download.pytorch.org/whl/cu118\n",
      "Requirement already satisfied: torch in c:\\users\\mahin\\appdata\\local\\programs\\python\\python312\\lib\\site-packages (2.4.1+cu118)\n",
      "Requirement already satisfied: torchvision in c:\\users\\mahin\\appdata\\local\\programs\\python\\python312\\lib\\site-packages (0.19.1+cu118)\n",
      "Requirement already satisfied: torchaudio in c:\\users\\mahin\\appdata\\local\\programs\\python\\python312\\lib\\site-packages (2.4.1+cu118)\n",
      "Requirement already satisfied: filelock in c:\\users\\mahin\\appdata\\local\\programs\\python\\python312\\lib\\site-packages (from torch) (3.16.1)\n",
      "Requirement already satisfied: typing-extensions>=4.8.0 in c:\\users\\mahin\\appdata\\local\\programs\\python\\python312\\lib\\site-packages (from torch) (4.12.2)\n",
      "Requirement already satisfied: sympy in c:\\users\\mahin\\appdata\\local\\programs\\python\\python312\\lib\\site-packages (from torch) (1.12)\n",
      "Requirement already satisfied: networkx in c:\\users\\mahin\\appdata\\local\\programs\\python\\python312\\lib\\site-packages (from torch) (3.2.1)\n",
      "Requirement already satisfied: jinja2 in c:\\users\\mahin\\appdata\\local\\programs\\python\\python312\\lib\\site-packages (from torch) (3.1.4)\n",
      "Requirement already satisfied: fsspec in c:\\users\\mahin\\appdata\\local\\programs\\python\\python312\\lib\\site-packages (from torch) (2024.6.1)\n",
      "Requirement already satisfied: setuptools in c:\\users\\mahin\\appdata\\local\\programs\\python\\python312\\lib\\site-packages (from torch) (75.1.0)\n",
      "Requirement already satisfied: numpy in c:\\users\\mahin\\appdata\\local\\programs\\python\\python312\\lib\\site-packages (from torchvision) (2.1.1)\n",
      "Requirement already satisfied: pillow!=8.3.*,>=5.3.0 in c:\\users\\mahin\\appdata\\local\\programs\\python\\python312\\lib\\site-packages (from torchvision) (10.4.0)\n",
      "Requirement already satisfied: MarkupSafe>=2.0 in c:\\users\\mahin\\appdata\\local\\programs\\python\\python312\\lib\\site-packages (from jinja2->torch) (2.1.5)\n",
      "Requirement already satisfied: mpmath>=0.19 in c:\\users\\mahin\\appdata\\local\\programs\\python\\python312\\lib\\site-packages (from sympy->torch) (1.3.0)\n"
     ]
    }
   ],
   "source": [
    "!pip install pandas matplotlib seaborn numpy ipython scikit-learn nltk transformers datasets\n",
    "!pip install torch torchvision torchaudio --index-url https://download.pytorch.org/whl/cu118\n"
   ]
  },
  {
   "cell_type": "code",
   "execution_count": 32,
   "metadata": {},
   "outputs": [
    {
     "name": "stdout",
     "output_type": "stream",
     "text": [
      "Requirement already satisfied: datasets in c:\\users\\mahin\\appdata\\local\\programs\\python\\python312\\lib\\site-packages (3.0.1)\n",
      "Requirement already satisfied: filelock in c:\\users\\mahin\\appdata\\local\\programs\\python\\python312\\lib\\site-packages (from datasets) (3.16.1)\n",
      "Requirement already satisfied: numpy>=1.17 in c:\\users\\mahin\\appdata\\local\\programs\\python\\python312\\lib\\site-packages (from datasets) (2.1.1)\n",
      "Requirement already satisfied: pyarrow>=15.0.0 in c:\\users\\mahin\\appdata\\local\\programs\\python\\python312\\lib\\site-packages (from datasets) (17.0.0)\n",
      "Requirement already satisfied: dill<0.3.9,>=0.3.0 in c:\\users\\mahin\\appdata\\local\\programs\\python\\python312\\lib\\site-packages (from datasets) (0.3.8)\n",
      "Requirement already satisfied: pandas in c:\\users\\mahin\\appdata\\local\\programs\\python\\python312\\lib\\site-packages (from datasets) (2.2.2)\n",
      "Requirement already satisfied: requests>=2.32.2 in c:\\users\\mahin\\appdata\\local\\programs\\python\\python312\\lib\\site-packages (from datasets) (2.32.3)\n",
      "Requirement already satisfied: tqdm>=4.66.3 in c:\\users\\mahin\\appdata\\local\\programs\\python\\python312\\lib\\site-packages (from datasets) (4.66.5)\n",
      "Requirement already satisfied: xxhash in c:\\users\\mahin\\appdata\\local\\programs\\python\\python312\\lib\\site-packages (from datasets) (3.5.0)\n",
      "Requirement already satisfied: multiprocess in c:\\users\\mahin\\appdata\\local\\programs\\python\\python312\\lib\\site-packages (from datasets) (0.70.16)\n",
      "Requirement already satisfied: fsspec<=2024.6.1,>=2023.1.0 in c:\\users\\mahin\\appdata\\local\\programs\\python\\python312\\lib\\site-packages (from fsspec[http]<=2024.6.1,>=2023.1.0->datasets) (2024.6.1)\n",
      "Requirement already satisfied: aiohttp in c:\\users\\mahin\\appdata\\local\\programs\\python\\python312\\lib\\site-packages (from datasets) (3.10.5)\n",
      "Requirement already satisfied: huggingface-hub>=0.22.0 in c:\\users\\mahin\\appdata\\local\\programs\\python\\python312\\lib\\site-packages (from datasets) (0.25.1)\n",
      "Requirement already satisfied: packaging in c:\\users\\mahin\\appdata\\local\\programs\\python\\python312\\lib\\site-packages (from datasets) (24.1)\n",
      "Requirement already satisfied: pyyaml>=5.1 in c:\\users\\mahin\\appdata\\local\\programs\\python\\python312\\lib\\site-packages (from datasets) (6.0.2)\n",
      "Requirement already satisfied: aiohappyeyeballs>=2.3.0 in c:\\users\\mahin\\appdata\\local\\programs\\python\\python312\\lib\\site-packages (from aiohttp->datasets) (2.4.0)\n",
      "Requirement already satisfied: aiosignal>=1.1.2 in c:\\users\\mahin\\appdata\\local\\programs\\python\\python312\\lib\\site-packages (from aiohttp->datasets) (1.3.1)\n",
      "Requirement already satisfied: attrs>=17.3.0 in c:\\users\\mahin\\appdata\\local\\programs\\python\\python312\\lib\\site-packages (from aiohttp->datasets) (24.2.0)\n",
      "Requirement already satisfied: frozenlist>=1.1.1 in c:\\users\\mahin\\appdata\\local\\programs\\python\\python312\\lib\\site-packages (from aiohttp->datasets) (1.4.1)\n",
      "Requirement already satisfied: multidict<7.0,>=4.5 in c:\\users\\mahin\\appdata\\local\\programs\\python\\python312\\lib\\site-packages (from aiohttp->datasets) (6.1.0)\n",
      "Requirement already satisfied: yarl<2.0,>=1.0 in c:\\users\\mahin\\appdata\\local\\programs\\python\\python312\\lib\\site-packages (from aiohttp->datasets) (1.11.1)\n",
      "Requirement already satisfied: typing-extensions>=3.7.4.3 in c:\\users\\mahin\\appdata\\local\\programs\\python\\python312\\lib\\site-packages (from huggingface-hub>=0.22.0->datasets) (4.12.2)\n",
      "Requirement already satisfied: charset-normalizer<4,>=2 in c:\\users\\mahin\\appdata\\local\\programs\\python\\python312\\lib\\site-packages (from requests>=2.32.2->datasets) (3.3.2)\n",
      "Requirement already satisfied: idna<4,>=2.5 in c:\\users\\mahin\\appdata\\local\\programs\\python\\python312\\lib\\site-packages (from requests>=2.32.2->datasets) (3.8)\n",
      "Requirement already satisfied: urllib3<3,>=1.21.1 in c:\\users\\mahin\\appdata\\local\\programs\\python\\python312\\lib\\site-packages (from requests>=2.32.2->datasets) (2.2.2)\n",
      "Requirement already satisfied: certifi>=2017.4.17 in c:\\users\\mahin\\appdata\\local\\programs\\python\\python312\\lib\\site-packages (from requests>=2.32.2->datasets) (2024.8.30)\n",
      "Requirement already satisfied: colorama in c:\\users\\mahin\\appdata\\local\\programs\\python\\python312\\lib\\site-packages (from tqdm>=4.66.3->datasets) (0.4.6)\n",
      "Requirement already satisfied: python-dateutil>=2.8.2 in c:\\users\\mahin\\appdata\\local\\programs\\python\\python312\\lib\\site-packages (from pandas->datasets) (2.9.0.post0)\n",
      "Requirement already satisfied: pytz>=2020.1 in c:\\users\\mahin\\appdata\\local\\programs\\python\\python312\\lib\\site-packages (from pandas->datasets) (2024.2)\n",
      "Requirement already satisfied: tzdata>=2022.7 in c:\\users\\mahin\\appdata\\local\\programs\\python\\python312\\lib\\site-packages (from pandas->datasets) (2024.1)\n",
      "Requirement already satisfied: six>=1.5 in c:\\users\\mahin\\appdata\\local\\programs\\python\\python312\\lib\\site-packages (from python-dateutil>=2.8.2->pandas->datasets) (1.16.0)\n"
     ]
    }
   ],
   "source": [
    "import warnings\n",
    "import pandas as pd\n",
    "import matplotlib.pyplot as plt\n",
    "import seaborn as sns\n",
    "import numpy as np\n",
    "from IPython.display import display\n",
    "\n",
    "# Machine learning libraries\n",
    "from sklearn.model_selection import train_test_split\n",
    "from sklearn.naive_bayes import MultinomialNB\n",
    "from sklearn.metrics import accuracy_score, classification_report, confusion_matrix, ConfusionMatrixDisplay, accuracy_score, f1_score\n",
    "from sklearn.pipeline import Pipeline\n",
    "from sklearn.feature_extraction.text import TfidfVectorizer\n",
    "from sklearn.neighbors import KNeighborsClassifier\n",
    "from sklearn.ensemble import RandomForestClassifier\n",
    "\n",
    "# NLP libraries\n",
    "from nltk.sentiment import SentimentIntensityAnalyzer\n",
    "\n",
    "# Transformers LLM libraries\n",
    "from transformers import pipeline, AutoTokenizer, AutoModelForSequenceClassification, TrainingArguments, Trainer\n",
    "!pip install datasets\n",
    "from datasets import Dataset\n",
    "\n",
    "warnings.filterwarnings('ignore')"
   ]
  },
  {
   "cell_type": "markdown",
   "metadata": {},
   "source": [
    "Exploratory Data Analysis & PREPROCESSING"
   ]
  },
  {
   "cell_type": "code",
   "execution_count": 33,
   "metadata": {},
   "outputs": [
    {
     "data": {
      "text/html": [
       "<div>\n",
       "<style scoped>\n",
       "    .dataframe tbody tr th:only-of-type {\n",
       "        vertical-align: middle;\n",
       "    }\n",
       "\n",
       "    .dataframe tbody tr th {\n",
       "        vertical-align: top;\n",
       "    }\n",
       "\n",
       "    .dataframe thead th {\n",
       "        text-align: right;\n",
       "    }\n",
       "</style>\n",
       "<table border=\"1\" class=\"dataframe\">\n",
       "  <thead>\n",
       "    <tr style=\"text-align: right;\">\n",
       "      <th></th>\n",
       "      <th>label</th>\n",
       "      <th>text</th>\n",
       "    </tr>\n",
       "  </thead>\n",
       "  <tbody>\n",
       "    <tr>\n",
       "      <th>0</th>\n",
       "      <td>neutral</td>\n",
       "      <td>According to Gran , the company has no plans t...</td>\n",
       "    </tr>\n",
       "    <tr>\n",
       "      <th>1</th>\n",
       "      <td>neutral</td>\n",
       "      <td>Technopolis plans to develop in stages an area...</td>\n",
       "    </tr>\n",
       "    <tr>\n",
       "      <th>2</th>\n",
       "      <td>negative</td>\n",
       "      <td>The international electronic industry company ...</td>\n",
       "    </tr>\n",
       "    <tr>\n",
       "      <th>3</th>\n",
       "      <td>positive</td>\n",
       "      <td>With the new production plant the company woul...</td>\n",
       "    </tr>\n",
       "    <tr>\n",
       "      <th>4</th>\n",
       "      <td>positive</td>\n",
       "      <td>According to the company 's updated strategy f...</td>\n",
       "    </tr>\n",
       "  </tbody>\n",
       "</table>\n",
       "</div>"
      ],
      "text/plain": [
       "      label                                               text\n",
       "0   neutral  According to Gran , the company has no plans t...\n",
       "1   neutral  Technopolis plans to develop in stages an area...\n",
       "2  negative  The international electronic industry company ...\n",
       "3  positive  With the new production plant the company woul...\n",
       "4  positive  According to the company 's updated strategy f..."
      ]
     },
     "execution_count": 33,
     "metadata": {},
     "output_type": "execute_result"
    }
   ],
   "source": [
    "# random state for reproduction\n",
    "random_state = 7\n",
    "\n",
    "# file path of CSV\n",
    "file_path = \"./all-data.csv\"\n",
    "\n",
    "# load and look at dataframe\n",
    "raw_df = pd.read_csv(file_path, names=['label', 'text'], encoding='utf-8', encoding_errors='replace')\n",
    "raw_df.head()"
   ]
  },
  {
   "cell_type": "code",
   "execution_count": 34,
   "metadata": {},
   "outputs": [
    {
     "name": "stdout",
     "output_type": "stream",
     "text": [
      "Number of NaN counts in data:\n",
      " label    0\n",
      "text     0\n",
      "dtype: int64 \n",
      "\n",
      "Count of each label:\n",
      " label\n",
      "neutral     2879\n",
      "positive    1363\n",
      "negative     604\n",
      "Name: count, dtype: int64 \n",
      "\n",
      "Count of duplicated rows:\n",
      " 6\n"
     ]
    }
   ],
   "source": [
    "# see if any cells are NA\n",
    "nan_counts = raw_df.isna().sum()\n",
    "print(\"Number of NaN counts in data:\\n\", nan_counts, \"\\n\")\n",
    "\n",
    "# count of each label\n",
    "summary_df = raw_df['label'].value_counts()\n",
    "print(\"Count of each label:\\n\", summary_df, \"\\n\")\n",
    "\n",
    "# find duplicate rows\n",
    "duplicate_rows = raw_df.duplicated().sum()\n",
    "print(\"Count of duplicated rows:\\n\", duplicate_rows)"
   ]
  },
  {
   "cell_type": "code",
   "execution_count": 35,
   "metadata": {},
   "outputs": [
    {
     "name": "stdout",
     "output_type": "stream",
     "text": [
      "Shape of dataframe before removing duplicate rows: (4846, 2)\n",
      "Shape of dataframe after removing duplicate rows: (4840, 2)\n"
     ]
    }
   ],
   "source": [
    "# remove duplicate rows\n",
    "df = raw_df.drop_duplicates()\n",
    "print(\"Shape of dataframe before removing duplicate rows:\", raw_df.shape)\n",
    "print(\"Shape of dataframe after removing duplicate rows:\", df.shape)"
   ]
  },
  {
   "cell_type": "code",
   "execution_count": 36,
   "metadata": {},
   "outputs": [
    {
     "data": {
      "text/plain": [
       "Text(0.5, 1.0, 'Count of labels')"
      ]
     },
     "execution_count": 36,
     "metadata": {},
     "output_type": "execute_result"
    },
    {
     "data": {
      "image/png": "[encoded data removed]",
      "text/plain": [
       "<Figure size 640x480 with 1 Axes>"
      ]
     },
     "metadata": {},
     "output_type": "display_data"
    }
   ],
   "source": [
    "# plot of label counts\n",
    "sns.countplot(y=\"label\",data=df).set_title(\"Count of labels\")"
   ]
  },
  {
   "cell_type": "code",
   "execution_count": 37,
   "metadata": {},
   "outputs": [
    {
     "name": "stdout",
     "output_type": "stream",
     "text": [
      "Average word count by label:\n",
      "label\n",
      "negative    23.917219\n",
      "neutral     22.160808\n",
      "positive    24.692590\n",
      "Name: text, dtype: float64\n"
     ]
    },
    {
     "data": {
      "text/plain": [
       "<function __main__.avg_word_count(df, text_column='text', label_column='label')>"
      ]
     },
     "execution_count": 37,
     "metadata": {},
     "output_type": "execute_result"
    }
   ],
   "source": [
    "# average word count for each label\n",
    "def avg_word_count(df, text_column='text', label_column='label'):\n",
    "    def word_count(text):\n",
    "        return len(str(text).split())\n",
    "\n",
    "    avg_words = df.groupby(label_column)[text_column].apply(lambda x: x.apply(word_count).mean())\n",
    "\n",
    "    print(\"Average word count by label:\")\n",
    "    print(avg_words)\n",
    "\n",
    "    return avg_word_count\n",
    "\n",
    "avg_word_count(df)"
   ]
  },
  {
   "cell_type": "markdown",
   "metadata": {},
   "source": [
    "SPLITTING DATA"
   ]
  },
  {
   "cell_type": "code",
   "execution_count": 38,
   "metadata": {},
   "outputs": [],
   "source": [
    "# split data\n",
    "def split_data(df, train_size=0.7, test_size=0.15, eval_size=0.15, random_state=random_state):\n",
    "    # declare X and y\n",
    "    X = df['text']\n",
    "    y = df['label']\n",
    "\n",
    "    # split data\n",
    "    train, temp = train_test_split(df, train_size=train_size, random_state=random_state, stratify=df['label'])\n",
    "    test, eval = train_test_split(temp, train_size=test_size/(test_size + eval_size), random_state=random_state, stratify=temp['label'])\n",
    "\n",
    "    # declare X and y variables\n",
    "    X_train = train['text'].reset_index(drop=True)\n",
    "    y_train = train['label'].reset_index(drop=True)\n",
    "    X_test = test['text'].reset_index(drop=True)\n",
    "    y_test = test['label'].reset_index(drop=True)\n",
    "    X_eval = eval['text'].reset_index(drop=True)\n",
    "    y_eval = eval['label'].reset_index(drop=True)\n",
    "\n",
    "    return X_train, X_test, y_train, y_test, X_eval, y_eval"
   ]
  },
  {
   "cell_type": "code",
   "execution_count": 39,
   "metadata": {},
   "outputs": [
    {
     "name": "stdout",
     "output_type": "stream",
     "text": [
      "Shape of X_train: (3388,)\n",
      "Shape of y_train: (3388,)\n",
      "Shape of X_test: (726,)\n",
      "Shape of y_test: (726,)\n",
      "Shape of X_eval: (726,)\n",
      "Shape of y_eval: (726,)\n"
     ]
    }
   ],
   "source": [
    "# split data into training, testing, eval\n",
    "def split_data(df, train_size=0.7, test_size=0.15, eval_size=0.15, random_state=random_state):\n",
    "    # declare X and y\n",
    "    X = df['text']\n",
    "    y = df['label']\n",
    "\n",
    "    # split data\n",
    "    train, temp = train_test_split(df, train_size=train_size, random_state=random_state, stratify=df['label'])\n",
    "    test, eval = train_test_split(temp, train_size=test_size/(test_size + eval_size), random_state=random_state, stratify=temp['label'])\n",
    "\n",
    "    # declare X and y variables\n",
    "    X_train = train['text'].reset_index(drop=True)\n",
    "    y_train = train['label'].reset_index(drop=True)\n",
    "    X_test = test['text'].reset_index(drop=True)\n",
    "    y_test = test['label'].reset_index(drop=True)\n",
    "    X_eval = eval['text'].reset_index(drop=True)\n",
    "    y_eval = eval['label'].reset_index(drop=True)\n",
    "\n",
    "    return X_train, X_test, y_train, y_test, X_eval, y_eval\n",
    "\n",
    "# splits\n",
    "X_train, X_test, y_train, y_test, X_eval, y_eval = split_data(df)\n",
    "\n",
    "# check shape of each set\n",
    "print(\"Shape of X_train:\", X_train.shape)\n",
    "print(\"Shape of y_train:\", y_train.shape)\n",
    "print(\"Shape of X_test:\", X_test.shape)\n",
    "print(\"Shape of y_test:\", y_test.shape)\n",
    "print(\"Shape of X_eval:\", X_eval.shape)\n",
    "print(\"Shape of y_eval:\", y_eval.shape)"
   ]
  },
  {
   "cell_type": "markdown",
   "metadata": {},
   "source": [
    "NAIVE BAYES"
   ]
  },
  {
   "cell_type": "code",
   "execution_count": 40,
   "metadata": {},
   "outputs": [
    {
     "name": "stdout",
     "output_type": "stream",
     "text": [
      "Testing Accuracy: 0.6763085399449036\n",
      "              precision    recall  f1-score   support\n",
      "\n",
      "    negative       0.75      0.07      0.12        91\n",
      "     neutral       0.68      0.98      0.80       431\n",
      "    positive       0.64      0.31      0.42       204\n",
      "\n",
      "    accuracy                           0.68       726\n",
      "   macro avg       0.69      0.45      0.45       726\n",
      "weighted avg       0.68      0.68      0.61       726\n",
      "\n"
     ]
    }
   ],
   "source": [
    "# model pipeline\n",
    "nb_pipeline = Pipeline([\n",
    "    ('tfidf', TfidfVectorizer()),\n",
    "    ('naive_bayes', (MultinomialNB()))\n",
    "])\n",
    "\n",
    "# fit model\n",
    "nb_pipeline.fit(X_train, y_train)\n",
    "\n",
    "# get predictions\n",
    "nb_ypred = nb_pipeline.predict(X_test)\n",
    "\n",
    "# look at metrics\n",
    "print(\"Testing Accuracy:\", accuracy_score(y_test, nb_ypred))\n",
    "print(classification_report(y_test, nb_ypred))"
   ]
  },
  {
   "cell_type": "code",
   "execution_count": 41,
   "metadata": {},
   "outputs": [
    {
     "data": {
      "image/png": "[encoded data removed]",
      "text/plain": [
       "<Figure size 640x480 with 2 Axes>"
      ]
     },
     "metadata": {},
     "output_type": "display_data"
    }
   ],
   "source": [
    "# produce confusion matrix for visualization\n",
    "conf_matrix = confusion_matrix(y_test, nb_ypred, labels=['negative', 'neutral', 'positive'])\n",
    "disp = ConfusionMatrixDisplay(confusion_matrix=conf_matrix, display_labels=['negative', 'neutral', 'positive'])\n",
    "disp.plot(cmap=\"BuPu\")\n",
    "plt.title('Naive Bayes Confusion Matrix')\n",
    "plt.show()"
   ]
  },
  {
   "cell_type": "markdown",
   "metadata": {},
   "source": [
    "KNN"
   ]
  },
  {
   "cell_type": "code",
   "execution_count": 42,
   "metadata": {},
   "outputs": [
    {
     "name": "stdout",
     "output_type": "stream",
     "text": [
      "Testing Accuracy: 0.6942148760330579\n",
      "              precision    recall  f1-score   support\n",
      "\n",
      "    negative       0.46      0.53      0.49        91\n",
      "     neutral       0.77      0.84      0.80       431\n",
      "    positive       0.63      0.47      0.54       204\n",
      "\n",
      "    accuracy                           0.69       726\n",
      "   macro avg       0.62      0.61      0.61       726\n",
      "weighted avg       0.69      0.69      0.69       726\n",
      "\n"
     ]
    }
   ],
   "source": [
    "# model pipeline\n",
    "knn_pipeline = Pipeline([\n",
    "    ('tfidf', TfidfVectorizer()),\n",
    "    ('knn', (KNeighborsClassifier()))\n",
    "])\n",
    "\n",
    "# fit model\n",
    "knn_pipeline.fit(X_train, y_train)\n",
    "\n",
    "# predict\n",
    "knn_ypred = knn_pipeline.predict(X_test)\n",
    "\n",
    "# metrics\n",
    "print(\"Testing Accuracy:\", accuracy_score(y_test, knn_ypred))\n",
    "print(classification_report(y_test, knn_ypred))"
   ]
  },
  {
   "cell_type": "code",
   "execution_count": 43,
   "metadata": {},
   "outputs": [
    {
     "data": {
      "image/png": "[encoded data removed]",
      "text/plain": [
       "<Figure size 640x480 with 2 Axes>"
      ]
     },
     "metadata": {},
     "output_type": "display_data"
    }
   ],
   "source": [
    "# produce confusion matrix for visualization\n",
    "conf_matrix = confusion_matrix(y_test, knn_ypred, labels=['negative', 'neutral', 'positive'])\n",
    "disp = ConfusionMatrixDisplay(confusion_matrix=conf_matrix, display_labels=['negative', 'neutral', 'positive'])\n",
    "disp.plot(cmap=\"BuPu\")\n",
    "plt.title('KNN Confusion Matrix')\n",
    "plt.show()"
   ]
  },
  {
   "cell_type": "markdown",
   "metadata": {},
   "source": [
    "RF"
   ]
  },
  {
   "cell_type": "code",
   "execution_count": 44,
   "metadata": {},
   "outputs": [
    {
     "name": "stdout",
     "output_type": "stream",
     "text": [
      "Testing Accuracy: 0.7575757575757576\n",
      "              precision    recall  f1-score   support\n",
      "\n",
      "    negative       0.84      0.46      0.60        91\n",
      "     neutral       0.74      0.96      0.84       431\n",
      "    positive       0.80      0.46      0.58       204\n",
      "\n",
      "    accuracy                           0.76       726\n",
      "   macro avg       0.79      0.63      0.67       726\n",
      "weighted avg       0.77      0.76      0.74       726\n",
      "\n"
     ]
    }
   ],
   "source": [
    "# pipeline\n",
    "rf_pipeline = Pipeline([\n",
    "    ('tfidf', TfidfVectorizer()),\n",
    "    ('rf', (RandomForestClassifier(random_state=random_state)))\n",
    "])\n",
    "# fit model\n",
    "rf_pipeline.fit(X_train, y_train)\n",
    "\n",
    "# predictions\n",
    "rf_ypred = rf_pipeline.predict(X_test)\n",
    "\n",
    "# performance metrics\n",
    "print(\"Testing Accuracy:\", accuracy_score(y_test, rf_ypred))\n",
    "print(classification_report(y_test, rf_ypred))"
   ]
  },
  {
   "cell_type": "code",
   "execution_count": 45,
   "metadata": {},
   "outputs": [
    {
     "data": {
      "image/png": "[encoded data removed]",
      "text/plain": [
       "<Figure size 640x480 with 2 Axes>"
      ]
     },
     "metadata": {},
     "output_type": "display_data"
    }
   ],
   "source": [
    "# produce confusion matrix for visualization\n",
    "conf_matrix = confusion_matrix(y_test, rf_ypred, labels=['negative', 'neutral', 'positive'])\n",
    "disp = ConfusionMatrixDisplay(confusion_matrix=conf_matrix, display_labels=['negative', 'neutral', 'positive'])\n",
    "disp.plot(cmap=\"BuPu\")\n",
    "plt.title('Random Forest Confusion Matrix')\n",
    "plt.show()"
   ]
  },
  {
   "cell_type": "markdown",
   "metadata": {},
   "source": [
    "NLTK VADER"
   ]
  },
  {
   "cell_type": "code",
   "execution_count": 46,
   "metadata": {},
   "outputs": [
    {
     "name": "stderr",
     "output_type": "stream",
     "text": [
      "[nltk_data] Downloading package vader_lexicon to\n",
      "[nltk_data]     C:\\Users\\Mahin\\AppData\\Roaming\\nltk_data...\n",
      "[nltk_data]   Package vader_lexicon is already up-to-date!\n"
     ]
    },
    {
     "data": {
      "text/html": [
       "<div>\n",
       "<style scoped>\n",
       "    .dataframe tbody tr th:only-of-type {\n",
       "        vertical-align: middle;\n",
       "    }\n",
       "\n",
       "    .dataframe tbody tr th {\n",
       "        vertical-align: top;\n",
       "    }\n",
       "\n",
       "    .dataframe thead th {\n",
       "        text-align: right;\n",
       "    }\n",
       "</style>\n",
       "<table border=\"1\" class=\"dataframe\">\n",
       "  <thead>\n",
       "    <tr style=\"text-align: right;\">\n",
       "      <th></th>\n",
       "      <th>label</th>\n",
       "      <th>text</th>\n",
       "      <th>VADER Predicted</th>\n",
       "    </tr>\n",
       "  </thead>\n",
       "  <tbody>\n",
       "    <tr>\n",
       "      <th>0</th>\n",
       "      <td>neutral</td>\n",
       "      <td>According to Gran , the company has no plans t...</td>\n",
       "      <td>negative</td>\n",
       "    </tr>\n",
       "    <tr>\n",
       "      <th>1</th>\n",
       "      <td>neutral</td>\n",
       "      <td>Technopolis plans to develop in stages an area...</td>\n",
       "      <td>negative</td>\n",
       "    </tr>\n",
       "    <tr>\n",
       "      <th>2</th>\n",
       "      <td>negative</td>\n",
       "      <td>The international electronic industry company ...</td>\n",
       "      <td>neutral</td>\n",
       "    </tr>\n",
       "    <tr>\n",
       "      <th>3</th>\n",
       "      <td>positive</td>\n",
       "      <td>With the new production plant the company woul...</td>\n",
       "      <td>positive</td>\n",
       "    </tr>\n",
       "    <tr>\n",
       "      <th>4</th>\n",
       "      <td>positive</td>\n",
       "      <td>According to the company 's updated strategy f...</td>\n",
       "      <td>positive</td>\n",
       "    </tr>\n",
       "  </tbody>\n",
       "</table>\n",
       "</div>"
      ],
      "text/plain": [
       "      label                                               text VADER Predicted\n",
       "0   neutral  According to Gran , the company has no plans t...        negative\n",
       "1   neutral  Technopolis plans to develop in stages an area...        negative\n",
       "2  negative  The international electronic industry company ...         neutral\n",
       "3  positive  With the new production plant the company woul...        positive\n",
       "4  positive  According to the company 's updated strategy f...        positive"
      ]
     },
     "execution_count": 46,
     "metadata": {},
     "output_type": "execute_result"
    }
   ],
   "source": [
    "# get VADER polarity scores\n",
    "import nltk\n",
    "nltk.download('vader_lexicon')\n",
    "def calculate_polarity(text):\n",
    "    analyzer = SentimentIntensityAnalyzer()\n",
    "    analyzer_dict = analyzer.polarity_scores(text)\n",
    "\n",
    "    if analyzer_dict['compound'] >= 0.05:\n",
    "        return \"positive\"\n",
    "    elif analyzer_dict['compound'] <= -0.05:\n",
    "        return \"negative\"\n",
    "    else:\n",
    "        return \"neutral\"\n",
    "# apply function to text and produce new column\n",
    "df['VADER Predicted'] = df['text'].apply(calculate_polarity)\n",
    "df.head()"
   ]
  },
  {
   "cell_type": "code",
   "execution_count": 47,
   "metadata": {},
   "outputs": [
    {
     "data": {
      "image/png": "[encoded data removed]",
      "text/plain": [
       "<Figure size 640x480 with 2 Axes>"
      ]
     },
     "metadata": {},
     "output_type": "display_data"
    }
   ],
   "source": [
    "# confusion matrix\n",
    "conf_matrix = confusion_matrix(df['label'],df['VADER Predicted'],labels=['negative', 'neutral', 'positive'])\n",
    "disp = ConfusionMatrixDisplay(confusion_matrix=conf_matrix, display_labels=['negative', 'neutral', 'positive'])\n",
    "disp.plot(cmap=\"BuPu\")\n",
    "plt.title('VADER Confusion Matrix')\n",
    "plt.show()"
   ]
  },
  {
   "cell_type": "code",
   "execution_count": 48,
   "metadata": {},
   "outputs": [
    {
     "name": "stdout",
     "output_type": "stream",
     "text": [
      "              precision    recall  f1-score   support\n",
      "\n",
      "    negative       0.40      0.30      0.34       604\n",
      "     neutral       0.74      0.52      0.61      2873\n",
      "    positive       0.40      0.71      0.51      1363\n",
      "\n",
      "    accuracy                           0.54      4840\n",
      "   macro avg       0.52      0.51      0.49      4840\n",
      "weighted avg       0.60      0.54      0.55      4840\n",
      "\n"
     ]
    }
   ],
   "source": [
    "# performance metrics\n",
    "class_report = classification_report(df['label'], df['VADER Predicted'], labels=['negative', 'neutral', 'positive'])\n",
    "print(class_report)"
   ]
  },
  {
   "cell_type": "markdown",
   "metadata": {},
   "source": [
    "RoBERTa Model"
   ]
  },
  {
   "cell_type": "code",
   "execution_count": 49,
   "metadata": {},
   "outputs": [
    {
     "name": "stderr",
     "output_type": "stream",
     "text": [
      "Some weights of the model checkpoint at cardiffnlp/twitter-roberta-base-sentiment-latest were not used when initializing RobertaForSequenceClassification: ['roberta.pooler.dense.bias', 'roberta.pooler.dense.weight']\n",
      "- This IS expected if you are initializing RobertaForSequenceClassification from the checkpoint of a model trained on another task or with another architecture (e.g. initializing a BertForSequenceClassification model from a BertForPreTraining model).\n",
      "- This IS NOT expected if you are initializing RobertaForSequenceClassification from the checkpoint of a model that you expect to be exactly identical (initializing a BertForSequenceClassification model from a BertForSequenceClassification model).\n"
     ]
    }
   ],
   "source": [
    "# initialize roberta model\n",
    "model_name = \"cardiffnlp/twitter-roberta-base-sentiment-latest\"\n",
    "tokenizer = AutoTokenizer.from_pretrained(model_name)\n",
    "model = AutoModelForSequenceClassification.from_pretrained(model_name)\n",
    "\n",
    "# built-in model pipeline for sentiment analysis\n",
    "sen_analysis_pipeline = pipeline(\"sentiment-analysis\", model=model, tokenizer=tokenizer)"
   ]
  },
  {
   "cell_type": "code",
   "execution_count": 50,
   "metadata": {},
   "outputs": [
    {
     "data": {
      "text/html": [
       "<div>\n",
       "<style scoped>\n",
       "    .dataframe tbody tr th:only-of-type {\n",
       "        vertical-align: middle;\n",
       "    }\n",
       "\n",
       "    .dataframe tbody tr th {\n",
       "        vertical-align: top;\n",
       "    }\n",
       "\n",
       "    .dataframe thead th {\n",
       "        text-align: right;\n",
       "    }\n",
       "</style>\n",
       "<table border=\"1\" class=\"dataframe\">\n",
       "  <thead>\n",
       "    <tr style=\"text-align: right;\">\n",
       "      <th></th>\n",
       "      <th>label</th>\n",
       "      <th>text</th>\n",
       "      <th>VADER Predicted</th>\n",
       "      <th>Roberta Predicted</th>\n",
       "    </tr>\n",
       "  </thead>\n",
       "  <tbody>\n",
       "    <tr>\n",
       "      <th>0</th>\n",
       "      <td>neutral</td>\n",
       "      <td>According to Gran , the company has no plans t...</td>\n",
       "      <td>negative</td>\n",
       "      <td>neutral</td>\n",
       "    </tr>\n",
       "    <tr>\n",
       "      <th>1</th>\n",
       "      <td>neutral</td>\n",
       "      <td>Technopolis plans to develop in stages an area...</td>\n",
       "      <td>negative</td>\n",
       "      <td>neutral</td>\n",
       "    </tr>\n",
       "    <tr>\n",
       "      <th>2</th>\n",
       "      <td>negative</td>\n",
       "      <td>The international electronic industry company ...</td>\n",
       "      <td>neutral</td>\n",
       "      <td>negative</td>\n",
       "    </tr>\n",
       "    <tr>\n",
       "      <th>3</th>\n",
       "      <td>positive</td>\n",
       "      <td>With the new production plant the company woul...</td>\n",
       "      <td>positive</td>\n",
       "      <td>positive</td>\n",
       "    </tr>\n",
       "    <tr>\n",
       "      <th>4</th>\n",
       "      <td>positive</td>\n",
       "      <td>According to the company 's updated strategy f...</td>\n",
       "      <td>positive</td>\n",
       "      <td>neutral</td>\n",
       "    </tr>\n",
       "  </tbody>\n",
       "</table>\n",
       "</div>"
      ],
      "text/plain": [
       "      label                                               text  \\\n",
       "0   neutral  According to Gran , the company has no plans t...   \n",
       "1   neutral  Technopolis plans to develop in stages an area...   \n",
       "2  negative  The international electronic industry company ...   \n",
       "3  positive  With the new production plant the company woul...   \n",
       "4  positive  According to the company 's updated strategy f...   \n",
       "\n",
       "  VADER Predicted Roberta Predicted  \n",
       "0        negative           neutral  \n",
       "1        negative           neutral  \n",
       "2         neutral          negative  \n",
       "3        positive          positive  \n",
       "4        positive           neutral  "
      ]
     },
     "execution_count": 50,
     "metadata": {},
     "output_type": "execute_result"
    }
   ],
   "source": [
    "# get predictions from model\n",
    "def get_bert_pred(text):\n",
    "    result = sen_analysis_pipeline(text)[0]\n",
    "    return result['label'].lower()\n",
    "\n",
    "# apply function to text and produce new column\n",
    "df['Roberta Predicted'] = df['text'].apply(get_bert_pred)\n",
    "df.head()"
   ]
  },
  {
   "cell_type": "code",
   "execution_count": 51,
   "metadata": {},
   "outputs": [
    {
     "data": {
      "image/png": "[encoded data removed]",
      "text/plain": [
       "<Figure size 640x480 with 2 Axes>"
      ]
     },
     "metadata": {},
     "output_type": "display_data"
    }
   ],
   "source": [
    "# confusion matrix\n",
    "conf_matrix = confusion_matrix(df['label'], df['Roberta Predicted'], labels=['negative', 'neutral', 'positive'])\n",
    "disp = ConfusionMatrixDisplay(confusion_matrix=conf_matrix, display_labels=['negative', 'neutral', 'positive'])\n",
    "disp.plot(cmap=\"BuPu\")\n",
    "plt.title('RoBERTa Prediction Confusion Matrix')\n",
    "plt.show()"
   ]
  },
  {
   "cell_type": "code",
   "execution_count": 52,
   "metadata": {},
   "outputs": [
    {
     "name": "stdout",
     "output_type": "stream",
     "text": [
      "              precision    recall  f1-score   support\n",
      "\n",
      "    negative       0.79      0.37      0.51       604\n",
      "     neutral       0.67      0.89      0.77      2873\n",
      "    positive       0.65      0.34      0.45      1363\n",
      "\n",
      "    accuracy                           0.67      4840\n",
      "   macro avg       0.70      0.54      0.57      4840\n",
      "weighted avg       0.68      0.67      0.64      4840\n",
      "\n"
     ]
    }
   ],
   "source": [
    "# performance metrics\n",
    "class_report = classification_report(df['label'], df['Roberta Predicted'], labels=['negative', 'neutral', 'positive'])\n",
    "print(class_report)"
   ]
  },
  {
   "cell_type": "markdown",
   "metadata": {},
   "source": [
    "Training the RoBERTa Model"
   ]
  },
  {
   "cell_type": "code",
   "execution_count": 53,
   "metadata": {},
   "outputs": [],
   "source": [
    "# split original data into training data and eval data\n",
    "training_data, val_data = train_test_split(df[['label', 'text']], test_size=0.2, random_state=random_state)\n",
    "train_data = Dataset.from_pandas(training_data.reset_index(drop=True))\n",
    "eval_data = Dataset.from_pandas(val_data.reset_index(drop=True))"
   ]
  },
  {
   "cell_type": "code",
   "execution_count": 54,
   "metadata": {},
   "outputs": [
    {
     "name": "stderr",
     "output_type": "stream",
     "text": [
      "Map:   0%|          | 0/3872 [00:00<?, ? examples/s]Asking to pad to max_length but no maximum length is provided and the model has no predefined maximum length. Default to no padding.\n",
      "Asking to truncate to max_length but no maximum length is provided and the model has no predefined maximum length. Default to no truncation.\n",
      "Map: 100%|██████████| 3872/3872 [00:00<00:00, 26329.53 examples/s]\n",
      "Map: 100%|██████████| 968/968 [00:00<00:00, 28197.39 examples/s]\n",
      "Map: 100%|██████████| 3872/3872 [00:00<00:00, 28569.37 examples/s]\n",
      "Map: 100%|██████████| 968/968 [00:00<00:00, 20143.31 examples/s]\n"
     ]
    }
   ],
   "source": [
    "# tokenize text datasets for model to read\n",
    "def tokenize_function(examples):\n",
    "    return tokenizer(examples[\"text\"], padding=\"max_length\", truncation=True)\n",
    "\n",
    "train_data = train_data.map(tokenize_function, batched=True)\n",
    "eval_data = eval_data.map(tokenize_function, batched=True)\n",
    "\n",
    "# now that it's tokenized, remove 'text' column\n",
    "train_data = train_data.remove_columns(['text'])\n",
    "eval_data = eval_data.remove_columns(['text'])\n",
    "\n",
    "# conver to integers for model to read\n",
    "label_mapping = {'negative': 0, 'neutral': 1, 'positive': 2}\n",
    "train_data = train_data.map(lambda x: {'label': label_mapping[x['label']]})\n",
    "eval_data = eval_data.map(lambda x: {'label': label_mapping[x['label']]})\n",
    "\n",
    "# convert to tensors to train model\n",
    "train_data.set_format(type='torch', columns=['input_ids', 'attention_mask', 'label'])\n",
    "eval_data.set_format(type='torch', columns=['input_ids', 'attention_mask', 'label'])"
   ]
  },
  {
   "cell_type": "code",
   "execution_count": 55,
   "metadata": {},
   "outputs": [],
   "source": [
    "!pip install transformers[torch] accelerate>=0.26.0\n"
   ]
  },
  {
   "cell_type": "code",
   "execution_count": 56,
   "metadata": {},
   "outputs": [],
   "source": [
    "# function for getting metrics\n",
    "def compute_metrics(eval_pred):\n",
    "    logits, labels = eval_pred\n",
    "    predictions = logits.argmax(axis=-1)\n",
    "    acc = accuracy_score(labels, predictions)\n",
    "\n",
    "    f1_scores = f1_score(labels, predictions, average=None)\n",
    "    negative_f1 = f1_scores[0]\n",
    "    neutral_f1 = f1_scores[1]\n",
    "    positive_f1 = f1_scores[2]\n",
    "\n",
    "    return {\n",
    "        'accuracy': acc,\n",
    "        'negative_f1': negative_f1,\n",
    "        'neutral_f1': neutral_f1,\n",
    "        'positive_f1': positive_f1\n",
    "    }\n",
    "\n",
    "# training arguments (fine-tuning)\n",
    "training_args = TrainingArguments(\n",
    "    output_dir=\"logs\",\n",
    "    per_device_train_batch_size=1,\n",
    "    gradient_accumulation_steps=8,\n",
    "    learning_rate=1e-4,\n",
    "    evaluation_strategy=\"epoch\",\n",
    ")\n",
    "\n",
    "# trainer for model\n",
    "trainer = Trainer(\n",
    "    model=model,\n",
    "    args=training_args,\n",
    "    train_dataset=train_data,\n",
    "    eval_dataset=eval_data,\n",
    "    tokenizer=tokenizer,\n",
    "    compute_metrics=compute_metrics\n",
    ")"
   ]
  },
  {
   "cell_type": "code",
   "execution_count": 57,
   "metadata": {},
   "outputs": [
    {
     "name": "stderr",
     "output_type": "stream",
     "text": [
      " 33%|███▎      | 484/1452 [19:29<39:27,  2.45s/it]  \n",
      " 33%|███▎      | 484/1452 [20:26<39:27,  2.45s/it]"
     ]
    },
    {
     "name": "stdout",
     "output_type": "stream",
     "text": [
      "{'eval_loss': 0.5130235552787781, 'eval_accuracy': 0.8223140495867769, 'eval_negative_f1': 0.8115942028985508, 'eval_neutral_f1': 0.8612099644128114, 'eval_positive_f1': 0.746268656716418, 'eval_runtime': 56.7591, 'eval_samples_per_second': 17.055, 'eval_steps_per_second': 2.132, 'epoch': 1.0}\n"
     ]
    },
    {
     "name": "stderr",
     "output_type": "stream",
     "text": [
      " 34%|███▍      | 500/1452 [21:03<37:42,  2.38s/it]  "
     ]
    },
    {
     "name": "stdout",
     "output_type": "stream",
     "text": [
      "{'loss': 0.6173, 'grad_norm': 3.0824644565582275, 'learning_rate': 6.556473829201102e-05, 'epoch': 1.03}\n"
     ]
    },
    {
     "name": "stderr",
     "output_type": "stream",
     "text": [
      "                                                  \n",
      " 67%|██████▋   | 968/1452 [42:24<19:26,  2.41s/it]"
     ]
    },
    {
     "name": "stdout",
     "output_type": "stream",
     "text": [
      "{'eval_loss': 0.8496133089065552, 'eval_accuracy': 0.8130165289256198, 'eval_negative_f1': 0.7867647058823529, 'eval_neutral_f1': 0.8535714285714285, 'eval_positive_f1': 0.7426470588235294, 'eval_runtime': 54.6155, 'eval_samples_per_second': 17.724, 'eval_steps_per_second': 2.215, 'epoch': 2.0}\n"
     ]
    },
    {
     "name": "stderr",
     "output_type": "stream",
     "text": [
      " 69%|██████▉   | 1000/1452 [43:43<19:24,  2.58s/it] "
     ]
    },
    {
     "name": "stdout",
     "output_type": "stream",
     "text": [
      "{'loss': 0.3908, 'grad_norm': 4.406111717224121, 'learning_rate': 3.1129476584022036e-05, 'epoch': 2.07}\n"
     ]
    },
    {
     "name": "stderr",
     "output_type": "stream",
     "text": [
      "                                                     \n",
      "100%|██████████| 1452/1452 [1:03:05<00:00,  2.61s/it]\n"
     ]
    },
    {
     "name": "stdout",
     "output_type": "stream",
     "text": [
      "{'eval_loss': 0.7301333546638489, 'eval_accuracy': 0.8336776859504132, 'eval_negative_f1': 0.8, 'eval_neutral_f1': 0.8725065047701648, 'eval_positive_f1': 0.7641325536062378, 'eval_runtime': 54.7485, 'eval_samples_per_second': 17.681, 'eval_steps_per_second': 2.21, 'epoch': 3.0}\n",
      "{'train_runtime': 3785.1501, 'train_samples_per_second': 3.069, 'train_steps_per_second': 0.384, 'train_loss': 0.4148566138317434, 'epoch': 3.0}\n"
     ]
    }
   ],
   "source": [
    "# trains and saves model for later\n",
    "trainer.train()\n",
    "trainer.model.save_pretrained(\"trained_model\")"
   ]
  },
  {
   "cell_type": "code",
   "execution_count": 58,
   "metadata": {},
   "outputs": [
    {
     "name": "stderr",
     "output_type": "stream",
     "text": [
      "100%|██████████| 121/121 [00:53<00:00,  2.27it/s]\n"
     ]
    }
   ],
   "source": [
    "# performance metrics\n",
    "train_results = trainer.evaluate()"
   ]
  },
  {
   "cell_type": "markdown",
   "metadata": {},
   "source": [
    "Benchmarking"
   ]
  },
  {
   "cell_type": "code",
   "execution_count": 59,
   "metadata": {},
   "outputs": [
    {
     "name": "stderr",
     "output_type": "stream",
     "text": [
      "100%|██████████| 121/121 [00:53<00:00,  2.28it/s]\n"
     ]
    },
    {
     "data": {
      "text/html": [
       "<style type=\"text/css\">\n",
       "</style>\n",
       "<table id=\"T_39d0f\">\n",
       "  <thead>\n",
       "    <tr>\n",
       "      <th class=\"blank level0\" >&nbsp;</th>\n",
       "      <th id=\"T_39d0f_level0_col0\" class=\"col_heading level0 col0\" >Accuracy</th>\n",
       "      <th id=\"T_39d0f_level0_col1\" class=\"col_heading level0 col1\" >Negative F1 Score</th>\n",
       "      <th id=\"T_39d0f_level0_col2\" class=\"col_heading level0 col2\" >Neutral F1 Score</th>\n",
       "      <th id=\"T_39d0f_level0_col3\" class=\"col_heading level0 col3\" >Positive F1 Score</th>\n",
       "    </tr>\n",
       "    <tr>\n",
       "      <th class=\"index_name level0\" >Model</th>\n",
       "      <th class=\"blank col0\" >&nbsp;</th>\n",
       "      <th class=\"blank col1\" >&nbsp;</th>\n",
       "      <th class=\"blank col2\" >&nbsp;</th>\n",
       "      <th class=\"blank col3\" >&nbsp;</th>\n",
       "    </tr>\n",
       "  </thead>\n",
       "  <tbody>\n",
       "    <tr>\n",
       "      <th id=\"T_39d0f_level0_row0\" class=\"row_heading level0 row0\" >Naive Bayes</th>\n",
       "      <td id=\"T_39d0f_row0_col0\" class=\"data row0 col0\" >0.68</td>\n",
       "      <td id=\"T_39d0f_row0_col1\" class=\"data row0 col1\" >0.12</td>\n",
       "      <td id=\"T_39d0f_row0_col2\" class=\"data row0 col2\" >0.80</td>\n",
       "      <td id=\"T_39d0f_row0_col3\" class=\"data row0 col3\" >0.42</td>\n",
       "    </tr>\n",
       "    <tr>\n",
       "      <th id=\"T_39d0f_level0_row1\" class=\"row_heading level0 row1\" >KNN</th>\n",
       "      <td id=\"T_39d0f_row1_col0\" class=\"data row1 col0\" >0.69</td>\n",
       "      <td id=\"T_39d0f_row1_col1\" class=\"data row1 col1\" >0.49</td>\n",
       "      <td id=\"T_39d0f_row1_col2\" class=\"data row1 col2\" >0.80</td>\n",
       "      <td id=\"T_39d0f_row1_col3\" class=\"data row1 col3\" >0.54</td>\n",
       "    </tr>\n",
       "    <tr>\n",
       "      <th id=\"T_39d0f_level0_row2\" class=\"row_heading level0 row2\" >Random Forest</th>\n",
       "      <td id=\"T_39d0f_row2_col0\" class=\"data row2 col0\" >0.76</td>\n",
       "      <td id=\"T_39d0f_row2_col1\" class=\"data row2 col1\" >0.60</td>\n",
       "      <td id=\"T_39d0f_row2_col2\" class=\"data row2 col2\" >0.84</td>\n",
       "      <td id=\"T_39d0f_row2_col3\" class=\"data row2 col3\" >0.58</td>\n",
       "    </tr>\n",
       "    <tr>\n",
       "      <th id=\"T_39d0f_level0_row3\" class=\"row_heading level0 row3\" >VADER</th>\n",
       "      <td id=\"T_39d0f_row3_col0\" class=\"data row3 col0\" >0.54</td>\n",
       "      <td id=\"T_39d0f_row3_col1\" class=\"data row3 col1\" >0.34</td>\n",
       "      <td id=\"T_39d0f_row3_col2\" class=\"data row3 col2\" >0.61</td>\n",
       "      <td id=\"T_39d0f_row3_col3\" class=\"data row3 col3\" >0.51</td>\n",
       "    </tr>\n",
       "    <tr>\n",
       "      <th id=\"T_39d0f_level0_row4\" class=\"row_heading level0 row4\" >RoBERTa</th>\n",
       "      <td id=\"T_39d0f_row4_col0\" class=\"data row4 col0\" >0.67</td>\n",
       "      <td id=\"T_39d0f_row4_col1\" class=\"data row4 col1\" >0.51</td>\n",
       "      <td id=\"T_39d0f_row4_col2\" class=\"data row4 col2\" >0.77</td>\n",
       "      <td id=\"T_39d0f_row4_col3\" class=\"data row4 col3\" >0.45</td>\n",
       "    </tr>\n",
       "    <tr>\n",
       "      <th id=\"T_39d0f_level0_row5\" class=\"row_heading level0 row5\" >Fine-Tuned Model</th>\n",
       "      <td id=\"T_39d0f_row5_col0\" class=\"data row5 col0\" >0.83</td>\n",
       "      <td id=\"T_39d0f_row5_col1\" class=\"data row5 col1\" >0.80</td>\n",
       "      <td id=\"T_39d0f_row5_col2\" class=\"data row5 col2\" >0.87</td>\n",
       "      <td id=\"T_39d0f_row5_col3\" class=\"data row5 col3\" >0.76</td>\n",
       "    </tr>\n",
       "  </tbody>\n",
       "</table>\n"
      ],
      "text/plain": [
       "<pandas.io.formats.style.Styler at 0x12e12e08e90>"
      ]
     },
     "metadata": {},
     "output_type": "display_data"
    }
   ],
   "source": [
    "# get metrics from each model's report\n",
    "def extract_metrics(y_true, y_pred):\n",
    "    if len(y_true) != len(y_pred):\n",
    "        raise ValueError(f\"Mismatch in number of samples: y_true ({len(y_true)}) vs y_pred ({len(y_pred)})\")\n",
    "        \n",
    "    report = classification_report(y_true, y_pred, output_dict=True)\n",
    "    \n",
    "    accuracy = report['accuracy']\n",
    "    negative_f1 = report.get('negative', {}).get('f1-score', 0)\n",
    "    neutral_f1 = report.get('neutral', {}).get('f1-score', 0)\n",
    "    positive_f1 = report.get('positive', {}).get('f1-score', 0)\n",
    "    \n",
    "    return accuracy, negative_f1, neutral_f1, positive_f1\n",
    "\n",
    "# create table of extract reports\n",
    "def generate_performance_table(df, trainer=None):\n",
    "    models = [\n",
    "        ('Naive Bayes', 'nb_ypred', 'y_test'),\n",
    "        ('KNN', 'knn_ypred', 'y_test'),\n",
    "        ('Random Forest', 'rf_ypred', 'y_test'),\n",
    "        ('VADER', \"df['VADER Predicted']\", \"df['label']\"),\n",
    "        ('RoBERTa', \"df['Roberta Predicted']\", \"df['label']\")\n",
    "    ]\n",
    "    \n",
    "    # adds in trained model\n",
    "    if trainer is not None:\n",
    "        models.append(('Fine-Tuned Model', None, None))\n",
    "    \n",
    "    results = []\n",
    "    \n",
    "    # iterate over all models\n",
    "    for model_name, pred_var, true_var in models:\n",
    "        try:\n",
    "            if model_name == 'Fine-Tuned Model' and trainer is not None:\n",
    "                # Evaluate the fine-tuned model\n",
    "                eval_results = trainer.evaluate()\n",
    "                accuracy = eval_results['eval_accuracy']\n",
    "                neg_f1 = eval_results['eval_negative_f1']\n",
    "                neu_f1 = eval_results['eval_neutral_f1']\n",
    "                pos_f1 = eval_results['eval_positive_f1']\n",
    "            else:\n",
    "                y_true = eval(true_var)\n",
    "                y_pred = eval(pred_var) if pred_var.startswith('df[') else globals()[pred_var]\n",
    "                accuracy, neg_f1, neu_f1, pos_f1 = extract_metrics(y_true, y_pred)\n",
    "            \n",
    "            results.append([model_name, accuracy, neg_f1, neu_f1, pos_f1])\n",
    "            \n",
    "        except Exception as e:\n",
    "            print(f\"Error processing {model_name}: {str(e)}\")\n",
    "            results.append([model_name, None, None, None, None])\n",
    "    \n",
    "    # get results for table\n",
    "    result_df = pd.DataFrame(results, columns=['Model', 'Accuracy', 'Negative F1 Score', 'Neutral F1 Score', 'Positive F1 Score'])\n",
    "    result_df.set_index('Model', inplace=True)\n",
    "    return result_df\n",
    "\n",
    "# displays table\n",
    "performance_table = generate_performance_table(df, trainer)\n",
    "display(performance_table.style.format({col: '{:.2f}' for col in performance_table.columns}))"
   ]
  }
 ],
 "metadata": {
  "kernelspec": {
   "display_name": "Python 3",
   "language": "python",
   "name": "python3"
  },
  "language_info": {
   "codemirror_mode": {
    "name": "ipython",
    "version": 3
   },
   "file_extension": ".py",
   "mimetype": "text/x-python",
   "name": "python",
   "nbconvert_exporter": "python",
   "pygments_lexer": "ipython3",
   "version": "3.11.9"
  }
 },
 "nbformat": 4,
 "nbformat_minor": 2
}
